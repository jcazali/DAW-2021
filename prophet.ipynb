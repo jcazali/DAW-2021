{
  "nbformat": 4,
  "nbformat_minor": 0,
  "metadata": {
    "colab": {
      "name": "prophet.ipynb",
      "provenance": [],
      "collapsed_sections": [],
      "authorship_tag": "ABX9TyO47L3PGQx3QsPCtLk8K0sD",
      "include_colab_link": true
    },
    "kernelspec": {
      "name": "python3",
      "display_name": "Python 3"
    },
    "language_info": {
      "name": "python"
    }
  },
  "cells": [
    {
      "cell_type": "markdown",
      "metadata": {
        "id": "view-in-github",
        "colab_type": "text"
      },
      "source": [
        "<a href=\"https://colab.research.google.com/github/jcazali/DAW-2021/blob/main/prophet.ipynb\" target=\"_parent\"><img src=\"https://colab.research.google.com/assets/colab-badge.svg\" alt=\"Open In Colab\"/></a>"
      ]
    },
    {
      "cell_type": "markdown",
      "metadata": {
        "id": "Bf0XJsPl058k"
      },
      "source": [
        "**Profhet**"
      ]
    },
    {
      "cell_type": "markdown",
      "metadata": {
        "id": "AOJ8Y5230-Bk"
      },
      "source": [
        "Modelo de predição criado pelo Facebook"
      ]
    },
    {
      "cell_type": "markdown",
      "metadata": {
        "id": "Lu_JOoHs1P6M"
      },
      "source": [
        "Instalando a biblioteca"
      ]
    },
    {
      "cell_type": "code",
      "metadata": {
        "id": "V7YLBU1M1FTi"
      },
      "source": [
        "! pip install fbprophet"
      ],
      "execution_count": null,
      "outputs": []
    },
    {
      "cell_type": "markdown",
      "metadata": {
        "id": "k1qPbg-_1WUk"
      },
      "source": [
        "Importando a biblioteca"
      ]
    },
    {
      "cell_type": "code",
      "metadata": {
        "id": "xh8VyXIi1c27"
      },
      "source": [
        "from fbprophet import Prophet"
      ],
      "execution_count": null,
      "outputs": []
    },
    {
      "cell_type": "markdown",
      "metadata": {
        "id": "odcJjRZk1hlm"
      },
      "source": [
        "Criando um dataframe com a base de dados de treino, e renomeando as colunas para 'ds' e 'y', necessário para utilizar o Prophet"
      ]
    },
    {
      "cell_type": "code",
      "metadata": {
        "id": "WNQcqXML1r5V"
      },
      "source": [
        "dados = pd.DataFrame({'ds':treino.index, 'y':treino.values})"
      ],
      "execution_count": null,
      "outputs": []
    },
    {
      "cell_type": "markdown",
      "metadata": {
        "id": "gwD-lL4n1__j"
      },
      "source": [
        "Verificando as 5 primeiras linhas"
      ]
    },
    {
      "cell_type": "code",
      "metadata": {
        "colab": {
          "base_uri": "https://localhost:8080/",
          "height": 202
        },
        "id": "jCH2wBn82E2a",
        "outputId": "52897ab7-3f7d-4de0-d51c-b6b6b21d1296"
      },
      "source": [
        "dados.head()"
      ],
      "execution_count": null,
      "outputs": [
        {
          "output_type": "execute_result",
          "data": {
            "text/html": [
              "<div>\n",
              "<style scoped>\n",
              "    .dataframe tbody tr th:only-of-type {\n",
              "        vertical-align: middle;\n",
              "    }\n",
              "\n",
              "    .dataframe tbody tr th {\n",
              "        vertical-align: top;\n",
              "    }\n",
              "\n",
              "    .dataframe thead th {\n",
              "        text-align: right;\n",
              "    }\n",
              "</style>\n",
              "<table border=\"1\" class=\"dataframe\">\n",
              "  <thead>\n",
              "    <tr style=\"text-align: right;\">\n",
              "      <th></th>\n",
              "      <th>ds</th>\n",
              "      <th>y</th>\n",
              "    </tr>\n",
              "  </thead>\n",
              "  <tbody>\n",
              "    <tr>\n",
              "      <th>0</th>\n",
              "      <td>1/22/20</td>\n",
              "      <td>0</td>\n",
              "    </tr>\n",
              "    <tr>\n",
              "      <th>1</th>\n",
              "      <td>1/23/20</td>\n",
              "      <td>0</td>\n",
              "    </tr>\n",
              "    <tr>\n",
              "      <th>2</th>\n",
              "      <td>1/24/20</td>\n",
              "      <td>0</td>\n",
              "    </tr>\n",
              "    <tr>\n",
              "      <th>3</th>\n",
              "      <td>1/25/20</td>\n",
              "      <td>0</td>\n",
              "    </tr>\n",
              "    <tr>\n",
              "      <th>4</th>\n",
              "      <td>1/26/20</td>\n",
              "      <td>0</td>\n",
              "    </tr>\n",
              "  </tbody>\n",
              "</table>\n",
              "</div>"
            ],
            "text/plain": [
              "        ds  y\n",
              "0  1/22/20  0\n",
              "1  1/23/20  0\n",
              "2  1/24/20  0\n",
              "3  1/25/20  0\n",
              "4  1/26/20  0"
            ]
          },
          "metadata": {
            "tags": []
          },
          "execution_count": 51
        }
      ]
    },
    {
      "cell_type": "code",
      "metadata": {
        "colab": {
          "base_uri": "https://localhost:8080/",
          "height": 202
        },
        "id": "Eqk6wnIabFWR",
        "outputId": "da2667ea-902f-448f-bb34-c81be2fb2387"
      },
      "source": [
        "dados.tail()"
      ],
      "execution_count": null,
      "outputs": [
        {
          "output_type": "execute_result",
          "data": {
            "text/html": [
              "<div>\n",
              "<style scoped>\n",
              "    .dataframe tbody tr th:only-of-type {\n",
              "        vertical-align: middle;\n",
              "    }\n",
              "\n",
              "    .dataframe tbody tr th {\n",
              "        vertical-align: top;\n",
              "    }\n",
              "\n",
              "    .dataframe thead th {\n",
              "        text-align: right;\n",
              "    }\n",
              "</style>\n",
              "<table border=\"1\" class=\"dataframe\">\n",
              "  <thead>\n",
              "    <tr style=\"text-align: right;\">\n",
              "      <th></th>\n",
              "      <th>ds</th>\n",
              "      <th>y</th>\n",
              "    </tr>\n",
              "  </thead>\n",
              "  <tbody>\n",
              "    <tr>\n",
              "      <th>389</th>\n",
              "      <td>2/14/21</td>\n",
              "      <td>9834513</td>\n",
              "    </tr>\n",
              "    <tr>\n",
              "      <th>390</th>\n",
              "      <td>2/15/21</td>\n",
              "      <td>9866710</td>\n",
              "    </tr>\n",
              "    <tr>\n",
              "      <th>391</th>\n",
              "      <td>2/16/21</td>\n",
              "      <td>9921981</td>\n",
              "    </tr>\n",
              "    <tr>\n",
              "      <th>392</th>\n",
              "      <td>2/17/21</td>\n",
              "      <td>9978747</td>\n",
              "    </tr>\n",
              "    <tr>\n",
              "      <th>393</th>\n",
              "      <td>2/18/21</td>\n",
              "      <td>10030626</td>\n",
              "    </tr>\n",
              "  </tbody>\n",
              "</table>\n",
              "</div>"
            ],
            "text/plain": [
              "          ds         y\n",
              "389  2/14/21   9834513\n",
              "390  2/15/21   9866710\n",
              "391  2/16/21   9921981\n",
              "392  2/17/21   9978747\n",
              "393  2/18/21  10030626"
            ]
          },
          "metadata": {
            "tags": []
          },
          "execution_count": 52
        }
      ]
    },
    {
      "cell_type": "markdown",
      "metadata": {
        "id": "QW_1O75y2OsH"
      },
      "source": [
        "Treinando o modelo"
      ]
    },
    {
      "cell_type": "code",
      "metadata": {
        "id": "yZqU-9-l2S-q"
      },
      "source": [
        "modelo = Prophet()"
      ],
      "execution_count": null,
      "outputs": []
    },
    {
      "cell_type": "code",
      "metadata": {
        "colab": {
          "base_uri": "https://localhost:8080/"
        },
        "id": "U0IeHL7G2dQ8",
        "outputId": "60ab5168-bc85-4376-f954-c7ec82dc350c"
      },
      "source": [
        "modelo.fit(dados)"
      ],
      "execution_count": null,
      "outputs": [
        {
          "output_type": "stream",
          "text": [
            "INFO:numexpr.utils:NumExpr defaulting to 2 threads.\n",
            "INFO:fbprophet:Disabling yearly seasonality. Run prophet with yearly_seasonality=True to override this.\n",
            "INFO:fbprophet:Disabling daily seasonality. Run prophet with daily_seasonality=True to override this.\n"
          ],
          "name": "stderr"
        },
        {
          "output_type": "execute_result",
          "data": {
            "text/plain": [
              "<fbprophet.forecaster.Prophet at 0x7f1227c60b90>"
            ]
          },
          "metadata": {
            "tags": []
          },
          "execution_count": 54
        }
      ]
    },
    {
      "cell_type": "markdown",
      "metadata": {
        "id": "ZY2_dFNk3Gdu"
      },
      "source": [
        "Criando datas futuras para o modelo"
      ]
    },
    {
      "cell_type": "code",
      "metadata": {
        "id": "LuEI2JlA3OSd"
      },
      "source": [
        "futuro = modelo.make_future_dataframe(periods=108, freq='D')"
      ],
      "execution_count": null,
      "outputs": []
    },
    {
      "cell_type": "code",
      "metadata": {
        "colab": {
          "base_uri": "https://localhost:8080/",
          "height": 414
        },
        "id": "npkRnubY3Z0l",
        "outputId": "6d27efe3-57c8-4283-cec9-14b117c14ffd"
      },
      "source": [
        "futuro"
      ],
      "execution_count": null,
      "outputs": [
        {
          "output_type": "execute_result",
          "data": {
            "text/html": [
              "<div>\n",
              "<style scoped>\n",
              "    .dataframe tbody tr th:only-of-type {\n",
              "        vertical-align: middle;\n",
              "    }\n",
              "\n",
              "    .dataframe tbody tr th {\n",
              "        vertical-align: top;\n",
              "    }\n",
              "\n",
              "    .dataframe thead th {\n",
              "        text-align: right;\n",
              "    }\n",
              "</style>\n",
              "<table border=\"1\" class=\"dataframe\">\n",
              "  <thead>\n",
              "    <tr style=\"text-align: right;\">\n",
              "      <th></th>\n",
              "      <th>ds</th>\n",
              "    </tr>\n",
              "  </thead>\n",
              "  <tbody>\n",
              "    <tr>\n",
              "      <th>0</th>\n",
              "      <td>2020-01-22</td>\n",
              "    </tr>\n",
              "    <tr>\n",
              "      <th>1</th>\n",
              "      <td>2020-01-23</td>\n",
              "    </tr>\n",
              "    <tr>\n",
              "      <th>2</th>\n",
              "      <td>2020-01-24</td>\n",
              "    </tr>\n",
              "    <tr>\n",
              "      <th>3</th>\n",
              "      <td>2020-01-25</td>\n",
              "    </tr>\n",
              "    <tr>\n",
              "      <th>4</th>\n",
              "      <td>2020-01-26</td>\n",
              "    </tr>\n",
              "    <tr>\n",
              "      <th>...</th>\n",
              "      <td>...</td>\n",
              "    </tr>\n",
              "    <tr>\n",
              "      <th>497</th>\n",
              "      <td>2021-06-02</td>\n",
              "    </tr>\n",
              "    <tr>\n",
              "      <th>498</th>\n",
              "      <td>2021-06-03</td>\n",
              "    </tr>\n",
              "    <tr>\n",
              "      <th>499</th>\n",
              "      <td>2021-06-04</td>\n",
              "    </tr>\n",
              "    <tr>\n",
              "      <th>500</th>\n",
              "      <td>2021-06-05</td>\n",
              "    </tr>\n",
              "    <tr>\n",
              "      <th>501</th>\n",
              "      <td>2021-06-06</td>\n",
              "    </tr>\n",
              "  </tbody>\n",
              "</table>\n",
              "<p>502 rows × 1 columns</p>\n",
              "</div>"
            ],
            "text/plain": [
              "            ds\n",
              "0   2020-01-22\n",
              "1   2020-01-23\n",
              "2   2020-01-24\n",
              "3   2020-01-25\n",
              "4   2020-01-26\n",
              "..         ...\n",
              "497 2021-06-02\n",
              "498 2021-06-03\n",
              "499 2021-06-04\n",
              "500 2021-06-05\n",
              "501 2021-06-06\n",
              "\n",
              "[502 rows x 1 columns]"
            ]
          },
          "metadata": {
            "tags": []
          },
          "execution_count": 56
        }
      ]
    },
    {
      "cell_type": "markdown",
      "metadata": {
        "id": "YTFkr3WV5FnF"
      },
      "source": [
        "Realizando as previsões"
      ]
    },
    {
      "cell_type": "code",
      "metadata": {
        "id": "wODu0AAr4Xqs"
      },
      "source": [
        "previsao = modelo.predict(futuro)"
      ],
      "execution_count": null,
      "outputs": []
    },
    {
      "cell_type": "markdown",
      "metadata": {
        "id": "u2qsXNa15gWv"
      },
      "source": [
        "Alguns resultados da previsão"
      ]
    },
    {
      "cell_type": "code",
      "metadata": {
        "colab": {
          "base_uri": "https://localhost:8080/",
          "height": 355
        },
        "id": "yEa7xQx15i_M",
        "outputId": "6a5dbe0b-75a3-4bc0-8bcc-41bb690166d0"
      },
      "source": [
        "previsao [['ds', 'yhat', 'yhat_lower', 'yhat_upper']].tail(10)"
      ],
      "execution_count": null,
      "outputs": [
        {
          "output_type": "execute_result",
          "data": {
            "text/html": [
              "<div>\n",
              "<style scoped>\n",
              "    .dataframe tbody tr th:only-of-type {\n",
              "        vertical-align: middle;\n",
              "    }\n",
              "\n",
              "    .dataframe tbody tr th {\n",
              "        vertical-align: top;\n",
              "    }\n",
              "\n",
              "    .dataframe thead th {\n",
              "        text-align: right;\n",
              "    }\n",
              "</style>\n",
              "<table border=\"1\" class=\"dataframe\">\n",
              "  <thead>\n",
              "    <tr style=\"text-align: right;\">\n",
              "      <th></th>\n",
              "      <th>ds</th>\n",
              "      <th>yhat</th>\n",
              "      <th>yhat_lower</th>\n",
              "      <th>yhat_upper</th>\n",
              "    </tr>\n",
              "  </thead>\n",
              "  <tbody>\n",
              "    <tr>\n",
              "      <th>492</th>\n",
              "      <td>2021-05-28</td>\n",
              "      <td>1.459002e+07</td>\n",
              "      <td>1.376670e+07</td>\n",
              "      <td>1.547967e+07</td>\n",
              "    </tr>\n",
              "    <tr>\n",
              "      <th>493</th>\n",
              "      <td>2021-05-29</td>\n",
              "      <td>1.463751e+07</td>\n",
              "      <td>1.379101e+07</td>\n",
              "      <td>1.554363e+07</td>\n",
              "    </tr>\n",
              "    <tr>\n",
              "      <th>494</th>\n",
              "      <td>2021-05-30</td>\n",
              "      <td>1.467380e+07</td>\n",
              "      <td>1.382209e+07</td>\n",
              "      <td>1.560390e+07</td>\n",
              "    </tr>\n",
              "    <tr>\n",
              "      <th>495</th>\n",
              "      <td>2021-05-31</td>\n",
              "      <td>1.470860e+07</td>\n",
              "      <td>1.384098e+07</td>\n",
              "      <td>1.564118e+07</td>\n",
              "    </tr>\n",
              "    <tr>\n",
              "      <th>496</th>\n",
              "      <td>2021-06-01</td>\n",
              "      <td>1.475904e+07</td>\n",
              "      <td>1.387120e+07</td>\n",
              "      <td>1.569093e+07</td>\n",
              "    </tr>\n",
              "    <tr>\n",
              "      <th>497</th>\n",
              "      <td>2021-06-02</td>\n",
              "      <td>1.481213e+07</td>\n",
              "      <td>1.391272e+07</td>\n",
              "      <td>1.577926e+07</td>\n",
              "    </tr>\n",
              "    <tr>\n",
              "      <th>498</th>\n",
              "      <td>2021-06-03</td>\n",
              "      <td>1.486515e+07</td>\n",
              "      <td>1.395803e+07</td>\n",
              "      <td>1.584607e+07</td>\n",
              "    </tr>\n",
              "    <tr>\n",
              "      <th>499</th>\n",
              "      <td>2021-06-04</td>\n",
              "      <td>1.491448e+07</td>\n",
              "      <td>1.398505e+07</td>\n",
              "      <td>1.592340e+07</td>\n",
              "    </tr>\n",
              "    <tr>\n",
              "      <th>500</th>\n",
              "      <td>2021-06-05</td>\n",
              "      <td>1.496197e+07</td>\n",
              "      <td>1.402076e+07</td>\n",
              "      <td>1.596258e+07</td>\n",
              "    </tr>\n",
              "    <tr>\n",
              "      <th>501</th>\n",
              "      <td>2021-06-06</td>\n",
              "      <td>1.499826e+07</td>\n",
              "      <td>1.405730e+07</td>\n",
              "      <td>1.602426e+07</td>\n",
              "    </tr>\n",
              "  </tbody>\n",
              "</table>\n",
              "</div>"
            ],
            "text/plain": [
              "            ds          yhat    yhat_lower    yhat_upper\n",
              "492 2021-05-28  1.459002e+07  1.376670e+07  1.547967e+07\n",
              "493 2021-05-29  1.463751e+07  1.379101e+07  1.554363e+07\n",
              "494 2021-05-30  1.467380e+07  1.382209e+07  1.560390e+07\n",
              "495 2021-05-31  1.470860e+07  1.384098e+07  1.564118e+07\n",
              "496 2021-06-01  1.475904e+07  1.387120e+07  1.569093e+07\n",
              "497 2021-06-02  1.481213e+07  1.391272e+07  1.577926e+07\n",
              "498 2021-06-03  1.486515e+07  1.395803e+07  1.584607e+07\n",
              "499 2021-06-04  1.491448e+07  1.398505e+07  1.592340e+07\n",
              "500 2021-06-05  1.496197e+07  1.402076e+07  1.596258e+07\n",
              "501 2021-06-06  1.499826e+07  1.405730e+07  1.602426e+07"
            ]
          },
          "metadata": {
            "tags": []
          },
          "execution_count": 58
        }
      ]
    },
    {
      "cell_type": "markdown",
      "metadata": {
        "id": "fZA7jcJ_5_0-"
      },
      "source": [
        "Gráfico da previsão"
      ]
    },
    {
      "cell_type": "code",
      "metadata": {
        "colab": {
          "base_uri": "https://localhost:8080/",
          "height": 864
        },
        "id": "9P3dz2H56C87",
        "outputId": "647b798c-e161-44d2-9630-53739cab0a15"
      },
      "source": [
        "modelo.plot(previsao)"
      ],
      "execution_count": null,
      "outputs": [
        {
          "output_type": "execute_result",
          "data": {
            "image/png": "[encoded data removed]",
            "text/plain": [
              "<Figure size 720x432 with 1 Axes>"
            ]
          },
          "metadata": {
            "tags": []
          },
          "execution_count": 59
        },
        {
          "output_type": "display_data",
          "data": {
            "image/png": "[encoded data removed]",
            "text/plain": [
              "<Figure size 720x432 with 1 Axes>"
            ]
          },
          "metadata": {
            "tags": []
          }
        }
      ]
    }
  ]
}